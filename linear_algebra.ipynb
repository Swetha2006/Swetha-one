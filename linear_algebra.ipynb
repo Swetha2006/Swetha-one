{
 "cells": [
  {
   "cell_type": "code",
   "execution_count": 1,
   "metadata": {},
   "outputs": [
    {
     "name": "stdout",
     "output_type": "stream",
     "text": [
      "hi\n"
     ]
    }
   ],
   "source": [
    "print(\"hi\")\n"
   ]
  },
  {
   "cell_type": "code",
   "execution_count": 2,
   "metadata": {},
   "outputs": [
    {
     "name": "stdout",
     "output_type": "stream",
     "text": [
      "scalar x:5\n"
     ]
    }
   ],
   "source": [
    "import numpy as np\n",
    "x=5\n",
    "print(f\"scalar x:{x}\")"
   ]
  },
  {
   "cell_type": "code",
   "execution_count": 3,
   "metadata": {},
   "outputs": [
    {
     "name": "stdout",
     "output_type": "stream",
     "text": [
      "vector v:[3 4 5]\n"
     ]
    }
   ],
   "source": [
    "import numpy as np\n",
    "v=np.array([3,4,5])\n",
    "print(f\"vector v:{v}\")"
   ]
  },
  {
   "cell_type": "code",
   "execution_count": 5,
   "metadata": {},
   "outputs": [
    {
     "name": "stdout",
     "output_type": "stream",
     "text": [
      "[[19 22]\n",
      " [43 50]]\n"
     ]
    }
   ],
   "source": [
    "A= np.array([[1,2],[3,4]])\n",
    "B=np.array([[5,6],[7,8]])\n",
    "c=np.dot(A,B)\n",
    "print(c)"
   ]
  },
  {
   "cell_type": "code",
   "execution_count": 7,
   "metadata": {},
   "outputs": [
    {
     "name": "stdout",
     "output_type": "stream",
     "text": [
      "the derivative of x^4 is: 4*x**3\n",
      "The derivative at x=2 is: 32\n",
      "Approximate derivative at x=2: 32.00024000094004\n"
     ]
    }
   ],
   "source": [
    "from sympy import symbols,diff\n",
    "\n",
    "x =symbols('x')\n",
    "f = x**4\n",
    "derivative=diff(f,x)\n",
    "print('the derivative of x^4 is:',derivative)\n",
    "derivative_value=derivative.subs(x,2)\n",
    "print('The derivative at x=2 is:',derivative_value)\n",
    "def f(x):\n",
    "    return x**4\n",
    "def derivative_f(x,h=1e-5):\n",
    "    return(f(x+h)-f(x))/h\n",
    "print('Approximate derivative at x=2:',derivative_f(2))"
   ]
  },
  {
   "cell_type": "code",
   "execution_count": 1,
   "metadata": {},
   "outputs": [],
   "source": [
    "import numpy as np\n",
    "import matplotlib.pyplot as plt\n",
    "class simpleneuralnetwork:\n",
    "    def __init__(self,input_size,hidden_size,output_size):\n",
    "        self.W1= np.random.randn(hidden_size,input_size)*0.1\n",
    "        self.W1=np.zeros((hidden_size,1))\n",
    "        self.W1= np.random.randn(output_size,hidden_size)*0.1\n",
    "        self.W1=np.zeros((output_size,1))\n",
    "   \n",
    "        "
   ]
  },
  {
   "cell_type": "code",
   "execution_count": 7,
   "metadata": {},
   "outputs": [],
   "source": [
    "def relu(self,z):\n",
    "    return np.maximum(0,z)\n",
    "def relu_derivative(self,z):\n",
    "    return z>0\n",
    "def sigmoid(self,z):\n",
    "    return 1/(1+np.exp(-z))\n",
    "def forward_propogation(self,x):\n",
    "    Z1=np.dot(self.W1,X) + self.b1\n",
    "    A1=self.relu(Z1)\n",
    "    Z2=np.dot(self.W2,A1)+self.b2\n",
    "    A2=self.sigmoid(Z2)\n",
    "    return A2,(Z1,A1,Z2,A2)\n",
    "def compute_loss(self,A2,Y):\n",
    "    m=Y.shape[1]\n",
    "    loss=-1/m*np.sum(Y*np.log(A2+1e-8)+(1-Y)*np.log(1-A2+1e-8))\n",
    "    return loss\n",
    "def backward_propogation(self,X,Y,cache):\n",
    "    m=X.shape[1]\n",
    "    (Z1,A1,Z2,A2)=cache\n",
    "    dZ2=A2-Y\n",
    "    dW2=1/m*np.dot(dZ2,A1.T)\n",
    "    db2=1/m*np.sum(dZ2,axis=1,keepdims=True)\n",
    "    dA1 = np.dot(self.W2.T,dZ2)\n",
    "    dZ1= dA1*self.relu_deivative(Z1)\n",
    "    dW1=1/m*np.dot(dZ1,X.T)\n",
    "    db1=1/m*np.sum(dZ1,axis=1,keepdims=True)\n",
    "    return dW1,db1,dW2,db2\n",
    "def update_paramaters(self,dW1,db1,dW2,db2,learning_rate):\n",
    "    self.W1-=learning_rate*dW1\n",
    "    self.b1-=learning_rate*db1\n",
    "    self.W2-=learning_rate*dW2\n",
    "    self.b2-=learning_rate*db2\n",
    "def train(self,X,Y,num_iterations,learning_rate):\n",
    "    losses=[]\n",
    "    for i in range(num_iterations):\n",
    "        A2,cache=self.forward_propagation(X)\n",
    "        loss=self.compute_loss(A2,Y)\n",
    "        losses.append(loss)\n",
    "        dW1,db1,dW2,db2=self.backward_propagation(X,Y,cache)\n",
    "        self.update_paramaters(dW1,db1,dW2,db2,learning_rate)\n",
    "        if i%1000==0:\n",
    "            print(f\"Iteration{i},loss:{loss:.4f}\")\n",
    "        return losses\n",
    "def predict(self,X):\n",
    "    A2,_=self.forward_propagation(X)\n",
    "    return A2>0.5\n",
    "def stimulate_neural_network():\n",
    "    np.random.seed(42)\n",
    "    X=np.random.randn(2,1000)\n",
    "    Y=np.logical_xor(X[0]>0,X[1]>0).astype(int),reshape(1,1000)\n",
    "    train_size=800\n",
    "    X_train,X_test=X[:,:train_size],X[:,train_size:]\n",
    "    Y_train,Y_test=Y[:,:train_size],Y[:,train_size:]\n",
    "    nn=simpleneuralnetwork(input_size=2,hidden_size=16,output_size=1)\n",
    "    losses=nn.train(X_train,Y_train,num_iterations=50000,learning_rate=0.01)\n",
    "    predictions=nn.predict(X_test)\n",
    "    accuracy=np.mean(predictions==Y_test)\n",
    "    print(f\"Test Accuracy:{accuracy*100:.2f}%\")"
   ]
  },
  {
   "cell_type": "code",
   "execution_count": 2,
   "metadata": {},
   "outputs": [
    {
     "data": {
      "text/plain": [
       "<__main__.simpleneuralnetwork at 0x7f7ad01f1940>"
      ]
     },
     "execution_count": 2,
     "metadata": {},
     "output_type": "execute_result"
    }
   ],
   "source": [
    " simpleneuralnetwork(input_size=2,hidden_size=16,output_size=1)"
   ]
  }
 ],
 "metadata": {
  "kernelspec": {
   "display_name": "Python 3",
   "language": "python",
   "name": "python3"
  },
  "language_info": {
   "codemirror_mode": {
    "name": "ipython",
    "version": 3
   },
   "file_extension": ".py",
   "mimetype": "text/x-python",
   "name": "python",
   "nbconvert_exporter": "python",
   "pygments_lexer": "ipython3",
   "version": "3.12.1"
  }
 },
 "nbformat": 4,
 "nbformat_minor": 2
}
